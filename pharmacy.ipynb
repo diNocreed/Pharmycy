{
 "cells": [
  {
   "cell_type": "code",
   "execution_count": 1,
   "metadata": {},
   "outputs": [
    {
     "name": "stderr",
     "output_type": "stream",
     "text": [
      "        \n",
      "  import pandas as pd\n"
     ]
    }
   ],
   "source": [
    "import pandas as pd"
   ]
  },
  {
   "cell_type": "code",
   "execution_count": 2,
   "metadata": {},
   "outputs": [
    {
     "data": {
      "text/html": [
       "<div>\n",
       "<style scoped>\n",
       "    .dataframe tbody tr th:only-of-type {\n",
       "        vertical-align: middle;\n",
       "    }\n",
       "\n",
       "    .dataframe tbody tr th {\n",
       "        vertical-align: top;\n",
       "    }\n",
       "\n",
       "    .dataframe thead th {\n",
       "        text-align: right;\n",
       "    }\n",
       "</style>\n",
       "<table border=\"1\" class=\"dataframe\">\n",
       "  <thead>\n",
       "    <tr style=\"text-align: right;\">\n",
       "      <th></th>\n",
       "      <th>datetime</th>\n",
       "      <th>shop</th>\n",
       "      <th>card</th>\n",
       "      <th>bonus_earned</th>\n",
       "      <th>bonus_spent</th>\n",
       "      <th>summ</th>\n",
       "      <th>summ_with_disc</th>\n",
       "      <th>doc_id</th>\n",
       "    </tr>\n",
       "  </thead>\n",
       "  <tbody>\n",
       "    <tr>\n",
       "      <th>0</th>\n",
       "      <td>2021-07-13 12:56:09.000</td>\n",
       "      <td>Аптека 2</td>\n",
       "      <td>2000200195023</td>\n",
       "      <td>51</td>\n",
       "      <td>0</td>\n",
       "      <td>3400</td>\n",
       "      <td>3400</td>\n",
       "      <td>15#2002741#65938#2_29</td>\n",
       "    </tr>\n",
       "    <tr>\n",
       "      <th>1</th>\n",
       "      <td>2021-07-30 10:42:00.000</td>\n",
       "      <td>Аптека 2</td>\n",
       "      <td>2000200193494</td>\n",
       "      <td>57</td>\n",
       "      <td>0</td>\n",
       "      <td>747</td>\n",
       "      <td>747</td>\n",
       "      <td>15#2002972#65955#2_5</td>\n",
       "    </tr>\n",
       "    <tr>\n",
       "      <th>2</th>\n",
       "      <td>2021-10-11 12:55:23.000</td>\n",
       "      <td>Аптека 2</td>\n",
       "      <td>2000200199106</td>\n",
       "      <td>92</td>\n",
       "      <td>253</td>\n",
       "      <td>3077</td>\n",
       "      <td>3077</td>\n",
       "      <td>15#2004060#66028#2_29</td>\n",
       "    </tr>\n",
       "    <tr>\n",
       "      <th>3</th>\n",
       "      <td>2021-10-14 14:48:56.000</td>\n",
       "      <td>Аптека 2</td>\n",
       "      <td>2000200168768</td>\n",
       "      <td>1</td>\n",
       "      <td>0</td>\n",
       "      <td>54</td>\n",
       "      <td>54</td>\n",
       "      <td>15#2004107#66031#2_57</td>\n",
       "    </tr>\n",
       "    <tr>\n",
       "      <th>4</th>\n",
       "      <td>2021-10-20 11:09:39.000</td>\n",
       "      <td>Аптека 2</td>\n",
       "      <td>2000200226314</td>\n",
       "      <td>101</td>\n",
       "      <td>0</td>\n",
       "      <td>1733</td>\n",
       "      <td>1733</td>\n",
       "      <td>15#2004192#66037#2_16</td>\n",
       "    </tr>\n",
       "  </tbody>\n",
       "</table>\n",
       "</div>"
      ],
      "text/plain": [
       "                  datetime      shop           card  bonus_earned  \\\n",
       "0  2021-07-13 12:56:09.000  Аптека 2  2000200195023            51   \n",
       "1  2021-07-30 10:42:00.000  Аптека 2  2000200193494            57   \n",
       "2  2021-10-11 12:55:23.000  Аптека 2  2000200199106            92   \n",
       "3  2021-10-14 14:48:56.000  Аптека 2  2000200168768             1   \n",
       "4  2021-10-20 11:09:39.000  Аптека 2  2000200226314           101   \n",
       "\n",
       "   bonus_spent  summ  summ_with_disc                 doc_id  \n",
       "0            0  3400            3400  15#2002741#65938#2_29  \n",
       "1            0   747             747   15#2002972#65955#2_5  \n",
       "2          253  3077            3077  15#2004060#66028#2_29  \n",
       "3            0    54              54  15#2004107#66031#2_57  \n",
       "4            0  1733            1733  15#2004192#66037#2_16  "
      ]
     },
     "execution_count": 2,
     "metadata": {},
     "output_type": "execute_result"
    }
   ],
   "source": [
    "df=pd.read_csv('apteka.csv', sep=';')\n",
    "df.head()"
   ]
  },
  {
   "cell_type": "code",
   "execution_count": 3,
   "metadata": {},
   "outputs": [
    {
     "name": "stdout",
     "output_type": "stream",
     "text": [
      "<class 'pandas.core.frame.DataFrame'>\n",
      "RangeIndex: 38486 entries, 0 to 38485\n",
      "Data columns (total 8 columns):\n",
      " #   Column          Non-Null Count  Dtype         \n",
      "---  ------          --------------  -----         \n",
      " 0   datetime        38486 non-null  datetime64[ns]\n",
      " 1   shop            38486 non-null  object        \n",
      " 2   card            38486 non-null  object        \n",
      " 3   bonus_earned    38486 non-null  int64         \n",
      " 4   bonus_spent     38486 non-null  int64         \n",
      " 5   summ            38486 non-null  int64         \n",
      " 6   summ_with_disc  38486 non-null  int64         \n",
      " 7   doc_id          38486 non-null  object        \n",
      "dtypes: datetime64[ns](1), int64(4), object(3)\n",
      "memory usage: 2.3+ MB\n"
     ]
    }
   ],
   "source": [
    "df['datetime']=pd.to_datetime(df['datetime'])\n",
    "df.info()"
   ]
  },
  {
   "cell_type": "code",
   "execution_count": 4,
   "metadata": {},
   "outputs": [],
   "source": [
    "df=df[df['card'].str.startswith('2000')]"
   ]
  },
  {
   "cell_type": "code",
   "execution_count": 5,
   "metadata": {},
   "outputs": [
    {
     "data": {
      "text/html": [
       "<div>\n",
       "<style scoped>\n",
       "    .dataframe tbody tr th:only-of-type {\n",
       "        vertical-align: middle;\n",
       "    }\n",
       "\n",
       "    .dataframe tbody tr th {\n",
       "        vertical-align: top;\n",
       "    }\n",
       "\n",
       "    .dataframe thead th {\n",
       "        text-align: right;\n",
       "    }\n",
       "</style>\n",
       "<table border=\"1\" class=\"dataframe\">\n",
       "  <thead>\n",
       "    <tr style=\"text-align: right;\">\n",
       "      <th></th>\n",
       "      <th>datetime</th>\n",
       "      <th>shop</th>\n",
       "      <th>card</th>\n",
       "      <th>bonus_earned</th>\n",
       "      <th>bonus_spent</th>\n",
       "      <th>summ</th>\n",
       "      <th>summ_with_disc</th>\n",
       "      <th>doc_id</th>\n",
       "    </tr>\n",
       "  </thead>\n",
       "  <tbody>\n",
       "    <tr>\n",
       "      <th>641</th>\n",
       "      <td>2021-07-19 09:37:20</td>\n",
       "      <td>Аптека 2</td>\n",
       "      <td>2000200150015</td>\n",
       "      <td>0</td>\n",
       "      <td>1</td>\n",
       "      <td>21</td>\n",
       "      <td>21</td>\n",
       "      <td>15#2002822#65944#2_6</td>\n",
       "    </tr>\n",
       "    <tr>\n",
       "      <th>16455</th>\n",
       "      <td>2021-12-07 20:25:21</td>\n",
       "      <td>Аптека 2</td>\n",
       "      <td>2000200150022</td>\n",
       "      <td>30</td>\n",
       "      <td>0</td>\n",
       "      <td>1351</td>\n",
       "      <td>1351</td>\n",
       "      <td>15#2004825#66085#2_140</td>\n",
       "    </tr>\n",
       "    <tr>\n",
       "      <th>8751</th>\n",
       "      <td>2021-10-05 16:31:25</td>\n",
       "      <td>Аптека 2</td>\n",
       "      <td>2000200150053</td>\n",
       "      <td>15</td>\n",
       "      <td>0</td>\n",
       "      <td>649</td>\n",
       "      <td>649</td>\n",
       "      <td>15#2003981#66022#2_65</td>\n",
       "    </tr>\n",
       "    <tr>\n",
       "      <th>28718</th>\n",
       "      <td>2022-03-17 20:50:23</td>\n",
       "      <td>Аптека 7</td>\n",
       "      <td>2000200150053</td>\n",
       "      <td>1</td>\n",
       "      <td>0</td>\n",
       "      <td>64</td>\n",
       "      <td>64</td>\n",
       "      <td>15#11002624#66185#11_177</td>\n",
       "    </tr>\n",
       "    <tr>\n",
       "      <th>834</th>\n",
       "      <td>2021-07-21 11:10:25</td>\n",
       "      <td>Аптека 2</td>\n",
       "      <td>2000200150091</td>\n",
       "      <td>22</td>\n",
       "      <td>0</td>\n",
       "      <td>746</td>\n",
       "      <td>746</td>\n",
       "      <td>15#2002857#65946#2_4</td>\n",
       "    </tr>\n",
       "    <tr>\n",
       "      <th>...</th>\n",
       "      <td>...</td>\n",
       "      <td>...</td>\n",
       "      <td>...</td>\n",
       "      <td>...</td>\n",
       "      <td>...</td>\n",
       "      <td>...</td>\n",
       "      <td>...</td>\n",
       "      <td>...</td>\n",
       "    </tr>\n",
       "    <tr>\n",
       "      <th>38150</th>\n",
       "      <td>2022-06-07 17:08:45</td>\n",
       "      <td>Аптека 2</td>\n",
       "      <td>2000200259015</td>\n",
       "      <td>69</td>\n",
       "      <td>0</td>\n",
       "      <td>664</td>\n",
       "      <td>664</td>\n",
       "      <td>15#2003527#66267#2_73</td>\n",
       "    </tr>\n",
       "    <tr>\n",
       "      <th>38199</th>\n",
       "      <td>2022-06-07 19:19:12</td>\n",
       "      <td>Аптека 2</td>\n",
       "      <td>2000200259381</td>\n",
       "      <td>53</td>\n",
       "      <td>0</td>\n",
       "      <td>245</td>\n",
       "      <td>245</td>\n",
       "      <td>15#2003527#66267#2_109</td>\n",
       "    </tr>\n",
       "    <tr>\n",
       "      <th>38147</th>\n",
       "      <td>2022-06-07 19:37:59</td>\n",
       "      <td>Аптека 2</td>\n",
       "      <td>2000200259398</td>\n",
       "      <td>65</td>\n",
       "      <td>0</td>\n",
       "      <td>395</td>\n",
       "      <td>395</td>\n",
       "      <td>15#2003527#66267#2_113</td>\n",
       "    </tr>\n",
       "    <tr>\n",
       "      <th>38226</th>\n",
       "      <td>2022-06-08 09:46:52</td>\n",
       "      <td>Аптека 2</td>\n",
       "      <td>2000200259404</td>\n",
       "      <td>73</td>\n",
       "      <td>0</td>\n",
       "      <td>784</td>\n",
       "      <td>784</td>\n",
       "      <td>15#2003546#66268#2_7</td>\n",
       "    </tr>\n",
       "    <tr>\n",
       "      <th>37379</th>\n",
       "      <td>2022-06-01 12:34:41</td>\n",
       "      <td>Аптека 2</td>\n",
       "      <td>2000200259435</td>\n",
       "      <td>122</td>\n",
       "      <td>0</td>\n",
       "      <td>2431</td>\n",
       "      <td>2431</td>\n",
       "      <td>15#2003426#66261#2_35</td>\n",
       "    </tr>\n",
       "  </tbody>\n",
       "</table>\n",
       "<p>21075 rows × 8 columns</p>\n",
       "</div>"
      ],
      "text/plain": [
       "                 datetime      shop           card  bonus_earned  bonus_spent  \\\n",
       "641   2021-07-19 09:37:20  Аптека 2  2000200150015             0            1   \n",
       "16455 2021-12-07 20:25:21  Аптека 2  2000200150022            30            0   \n",
       "8751  2021-10-05 16:31:25  Аптека 2  2000200150053            15            0   \n",
       "28718 2022-03-17 20:50:23  Аптека 7  2000200150053             1            0   \n",
       "834   2021-07-21 11:10:25  Аптека 2  2000200150091            22            0   \n",
       "...                   ...       ...            ...           ...          ...   \n",
       "38150 2022-06-07 17:08:45  Аптека 2  2000200259015            69            0   \n",
       "38199 2022-06-07 19:19:12  Аптека 2  2000200259381            53            0   \n",
       "38147 2022-06-07 19:37:59  Аптека 2  2000200259398            65            0   \n",
       "38226 2022-06-08 09:46:52  Аптека 2  2000200259404            73            0   \n",
       "37379 2022-06-01 12:34:41  Аптека 2  2000200259435           122            0   \n",
       "\n",
       "       summ  summ_with_disc                    doc_id  \n",
       "641      21              21      15#2002822#65944#2_6  \n",
       "16455  1351            1351    15#2004825#66085#2_140  \n",
       "8751    649             649     15#2003981#66022#2_65  \n",
       "28718    64              64  15#11002624#66185#11_177  \n",
       "834     746             746      15#2002857#65946#2_4  \n",
       "...     ...             ...                       ...  \n",
       "38150   664             664     15#2003527#66267#2_73  \n",
       "38199   245             245    15#2003527#66267#2_109  \n",
       "38147   395             395    15#2003527#66267#2_113  \n",
       "38226   784             784      15#2003546#66268#2_7  \n",
       "37379  2431            2431     15#2003426#66261#2_35  \n",
       "\n",
       "[21075 rows x 8 columns]"
      ]
     },
     "execution_count": 5,
     "metadata": {},
     "output_type": "execute_result"
    }
   ],
   "source": [
    "df=df.sort_values(['card', 'datetime'])\n",
    "df"
   ]
  },
  {
   "cell_type": "code",
   "execution_count": 6,
   "metadata": {},
   "outputs": [],
   "source": [
    "df2=df.groupby('card').agg(\n",
    "    purchase_sum=('summ_with_disc', 'sum'),\n",
    "    purchase_amout=('summ_with_disc', 'count'),\n",
    "    last_purchase=('datetime', 'last')).reset_index()"
   ]
  },
  {
   "cell_type": "code",
   "execution_count": 7,
   "metadata": {},
   "outputs": [
    {
     "data": {
      "text/html": [
       "<div>\n",
       "<style scoped>\n",
       "    .dataframe tbody tr th:only-of-type {\n",
       "        vertical-align: middle;\n",
       "    }\n",
       "\n",
       "    .dataframe tbody tr th {\n",
       "        vertical-align: top;\n",
       "    }\n",
       "\n",
       "    .dataframe thead th {\n",
       "        text-align: right;\n",
       "    }\n",
       "</style>\n",
       "<table border=\"1\" class=\"dataframe\">\n",
       "  <thead>\n",
       "    <tr style=\"text-align: right;\">\n",
       "      <th></th>\n",
       "      <th>datetime</th>\n",
       "      <th>shop</th>\n",
       "      <th>card</th>\n",
       "      <th>bonus_earned</th>\n",
       "      <th>bonus_spent</th>\n",
       "      <th>summ</th>\n",
       "      <th>summ_with_disc</th>\n",
       "      <th>doc_id</th>\n",
       "    </tr>\n",
       "  </thead>\n",
       "  <tbody>\n",
       "    <tr>\n",
       "      <th>834</th>\n",
       "      <td>2021-07-21 11:10:25</td>\n",
       "      <td>Аптека 2</td>\n",
       "      <td>2000200150091</td>\n",
       "      <td>22</td>\n",
       "      <td>0</td>\n",
       "      <td>746</td>\n",
       "      <td>746</td>\n",
       "      <td>15#2002857#65946#2_4</td>\n",
       "    </tr>\n",
       "    <tr>\n",
       "      <th>12681</th>\n",
       "      <td>2021-11-06 16:37:26</td>\n",
       "      <td>Аптека 2</td>\n",
       "      <td>2000200150091</td>\n",
       "      <td>45</td>\n",
       "      <td>0</td>\n",
       "      <td>1509</td>\n",
       "      <td>1509</td>\n",
       "      <td>15#2004425#66054#2_53</td>\n",
       "    </tr>\n",
       "    <tr>\n",
       "      <th>12856</th>\n",
       "      <td>2021-11-08 12:12:17</td>\n",
       "      <td>Аптека 2</td>\n",
       "      <td>2000200150091</td>\n",
       "      <td>20</td>\n",
       "      <td>67</td>\n",
       "      <td>753</td>\n",
       "      <td>753</td>\n",
       "      <td>15#2004429#66056#2_24</td>\n",
       "    </tr>\n",
       "    <tr>\n",
       "      <th>35317</th>\n",
       "      <td>2022-05-15 11:58:24</td>\n",
       "      <td>Аптека 11</td>\n",
       "      <td>2000200150091</td>\n",
       "      <td>10</td>\n",
       "      <td>0</td>\n",
       "      <td>342</td>\n",
       "      <td>342</td>\n",
       "      <td>15#18001380#66244#18_32</td>\n",
       "    </tr>\n",
       "    <tr>\n",
       "      <th>37842</th>\n",
       "      <td>2022-06-05 11:49:47</td>\n",
       "      <td>Аптека 2</td>\n",
       "      <td>2000200150091</td>\n",
       "      <td>5</td>\n",
       "      <td>0</td>\n",
       "      <td>199</td>\n",
       "      <td>199</td>\n",
       "      <td>15#2003499#66265#2_22</td>\n",
       "    </tr>\n",
       "  </tbody>\n",
       "</table>\n",
       "</div>"
      ],
      "text/plain": [
       "                 datetime       shop           card  bonus_earned  \\\n",
       "834   2021-07-21 11:10:25   Аптека 2  2000200150091            22   \n",
       "12681 2021-11-06 16:37:26   Аптека 2  2000200150091            45   \n",
       "12856 2021-11-08 12:12:17   Аптека 2  2000200150091            20   \n",
       "35317 2022-05-15 11:58:24  Аптека 11  2000200150091            10   \n",
       "37842 2022-06-05 11:49:47   Аптека 2  2000200150091             5   \n",
       "\n",
       "       bonus_spent  summ  summ_with_disc                   doc_id  \n",
       "834              0   746             746     15#2002857#65946#2_4  \n",
       "12681            0  1509            1509    15#2004425#66054#2_53  \n",
       "12856           67   753             753    15#2004429#66056#2_24  \n",
       "35317            0   342             342  15#18001380#66244#18_32  \n",
       "37842            0   199             199    15#2003499#66265#2_22  "
      ]
     },
     "execution_count": 7,
     "metadata": {},
     "output_type": "execute_result"
    }
   ],
   "source": [
    "df[df['card']=='2000200150091']"
   ]
  },
  {
   "cell_type": "code",
   "execution_count": 8,
   "metadata": {},
   "outputs": [
    {
     "data": {
      "text/html": [
       "<div>\n",
       "<style scoped>\n",
       "    .dataframe tbody tr th:only-of-type {\n",
       "        vertical-align: middle;\n",
       "    }\n",
       "\n",
       "    .dataframe tbody tr th {\n",
       "        vertical-align: top;\n",
       "    }\n",
       "\n",
       "    .dataframe thead th {\n",
       "        text-align: right;\n",
       "    }\n",
       "</style>\n",
       "<table border=\"1\" class=\"dataframe\">\n",
       "  <thead>\n",
       "    <tr style=\"text-align: right;\">\n",
       "      <th></th>\n",
       "      <th>card</th>\n",
       "      <th>purchase_sum</th>\n",
       "      <th>purchase_amout</th>\n",
       "      <th>last_purchase</th>\n",
       "    </tr>\n",
       "  </thead>\n",
       "  <tbody>\n",
       "    <tr>\n",
       "      <th>0</th>\n",
       "      <td>2000200150015</td>\n",
       "      <td>21</td>\n",
       "      <td>1</td>\n",
       "      <td>2021-07-19 09:37:20</td>\n",
       "    </tr>\n",
       "    <tr>\n",
       "      <th>1</th>\n",
       "      <td>2000200150022</td>\n",
       "      <td>1351</td>\n",
       "      <td>1</td>\n",
       "      <td>2021-12-07 20:25:21</td>\n",
       "    </tr>\n",
       "    <tr>\n",
       "      <th>2</th>\n",
       "      <td>2000200150053</td>\n",
       "      <td>713</td>\n",
       "      <td>2</td>\n",
       "      <td>2022-03-17 20:50:23</td>\n",
       "    </tr>\n",
       "    <tr>\n",
       "      <th>3</th>\n",
       "      <td>2000200150091</td>\n",
       "      <td>3549</td>\n",
       "      <td>5</td>\n",
       "      <td>2022-06-05 11:49:47</td>\n",
       "    </tr>\n",
       "    <tr>\n",
       "      <th>4</th>\n",
       "      <td>2000200150107</td>\n",
       "      <td>1735</td>\n",
       "      <td>3</td>\n",
       "      <td>2022-06-02 17:54:19</td>\n",
       "    </tr>\n",
       "    <tr>\n",
       "      <th>...</th>\n",
       "      <td>...</td>\n",
       "      <td>...</td>\n",
       "      <td>...</td>\n",
       "      <td>...</td>\n",
       "    </tr>\n",
       "    <tr>\n",
       "      <th>5921</th>\n",
       "      <td>2000200259015</td>\n",
       "      <td>664</td>\n",
       "      <td>1</td>\n",
       "      <td>2022-06-07 17:08:45</td>\n",
       "    </tr>\n",
       "    <tr>\n",
       "      <th>5922</th>\n",
       "      <td>2000200259381</td>\n",
       "      <td>245</td>\n",
       "      <td>1</td>\n",
       "      <td>2022-06-07 19:19:12</td>\n",
       "    </tr>\n",
       "    <tr>\n",
       "      <th>5923</th>\n",
       "      <td>2000200259398</td>\n",
       "      <td>395</td>\n",
       "      <td>1</td>\n",
       "      <td>2022-06-07 19:37:59</td>\n",
       "    </tr>\n",
       "    <tr>\n",
       "      <th>5924</th>\n",
       "      <td>2000200259404</td>\n",
       "      <td>784</td>\n",
       "      <td>1</td>\n",
       "      <td>2022-06-08 09:46:52</td>\n",
       "    </tr>\n",
       "    <tr>\n",
       "      <th>5925</th>\n",
       "      <td>2000200259435</td>\n",
       "      <td>2431</td>\n",
       "      <td>1</td>\n",
       "      <td>2022-06-01 12:34:41</td>\n",
       "    </tr>\n",
       "  </tbody>\n",
       "</table>\n",
       "<p>5926 rows × 4 columns</p>\n",
       "</div>"
      ],
      "text/plain": [
       "               card  purchase_sum  purchase_amout       last_purchase\n",
       "0     2000200150015            21               1 2021-07-19 09:37:20\n",
       "1     2000200150022          1351               1 2021-12-07 20:25:21\n",
       "2     2000200150053           713               2 2022-03-17 20:50:23\n",
       "3     2000200150091          3549               5 2022-06-05 11:49:47\n",
       "4     2000200150107          1735               3 2022-06-02 17:54:19\n",
       "...             ...           ...             ...                 ...\n",
       "5921  2000200259015           664               1 2022-06-07 17:08:45\n",
       "5922  2000200259381           245               1 2022-06-07 19:19:12\n",
       "5923  2000200259398           395               1 2022-06-07 19:37:59\n",
       "5924  2000200259404           784               1 2022-06-08 09:46:52\n",
       "5925  2000200259435          2431               1 2022-06-01 12:34:41\n",
       "\n",
       "[5926 rows x 4 columns]"
      ]
     },
     "execution_count": 8,
     "metadata": {},
     "output_type": "execute_result"
    }
   ],
   "source": [
    "df2"
   ]
  },
  {
   "cell_type": "code",
   "execution_count": 9,
   "metadata": {},
   "outputs": [
    {
     "data": {
      "text/html": [
       "<div>\n",
       "<style scoped>\n",
       "    .dataframe tbody tr th:only-of-type {\n",
       "        vertical-align: middle;\n",
       "    }\n",
       "\n",
       "    .dataframe tbody tr th {\n",
       "        vertical-align: top;\n",
       "    }\n",
       "\n",
       "    .dataframe thead th {\n",
       "        text-align: right;\n",
       "    }\n",
       "</style>\n",
       "<table border=\"1\" class=\"dataframe\">\n",
       "  <thead>\n",
       "    <tr style=\"text-align: right;\">\n",
       "      <th></th>\n",
       "      <th>card</th>\n",
       "      <th>purchase_sum</th>\n",
       "      <th>purchase_amout</th>\n",
       "      <th>last_purchase</th>\n",
       "      <th>days_since_last_purchase</th>\n",
       "    </tr>\n",
       "  </thead>\n",
       "  <tbody>\n",
       "    <tr>\n",
       "      <th>0</th>\n",
       "      <td>2000200150015</td>\n",
       "      <td>21</td>\n",
       "      <td>1</td>\n",
       "      <td>2021-07-19 09:37:20</td>\n",
       "      <td>325</td>\n",
       "    </tr>\n",
       "    <tr>\n",
       "      <th>1</th>\n",
       "      <td>2000200150022</td>\n",
       "      <td>1351</td>\n",
       "      <td>1</td>\n",
       "      <td>2021-12-07 20:25:21</td>\n",
       "      <td>184</td>\n",
       "    </tr>\n",
       "    <tr>\n",
       "      <th>2</th>\n",
       "      <td>2000200150053</td>\n",
       "      <td>713</td>\n",
       "      <td>2</td>\n",
       "      <td>2022-03-17 20:50:23</td>\n",
       "      <td>84</td>\n",
       "    </tr>\n",
       "    <tr>\n",
       "      <th>3</th>\n",
       "      <td>2000200150091</td>\n",
       "      <td>3549</td>\n",
       "      <td>5</td>\n",
       "      <td>2022-06-05 11:49:47</td>\n",
       "      <td>4</td>\n",
       "    </tr>\n",
       "    <tr>\n",
       "      <th>4</th>\n",
       "      <td>2000200150107</td>\n",
       "      <td>1735</td>\n",
       "      <td>3</td>\n",
       "      <td>2022-06-02 17:54:19</td>\n",
       "      <td>7</td>\n",
       "    </tr>\n",
       "    <tr>\n",
       "      <th>...</th>\n",
       "      <td>...</td>\n",
       "      <td>...</td>\n",
       "      <td>...</td>\n",
       "      <td>...</td>\n",
       "      <td>...</td>\n",
       "    </tr>\n",
       "    <tr>\n",
       "      <th>5921</th>\n",
       "      <td>2000200259015</td>\n",
       "      <td>664</td>\n",
       "      <td>1</td>\n",
       "      <td>2022-06-07 17:08:45</td>\n",
       "      <td>2</td>\n",
       "    </tr>\n",
       "    <tr>\n",
       "      <th>5922</th>\n",
       "      <td>2000200259381</td>\n",
       "      <td>245</td>\n",
       "      <td>1</td>\n",
       "      <td>2022-06-07 19:19:12</td>\n",
       "      <td>2</td>\n",
       "    </tr>\n",
       "    <tr>\n",
       "      <th>5923</th>\n",
       "      <td>2000200259398</td>\n",
       "      <td>395</td>\n",
       "      <td>1</td>\n",
       "      <td>2022-06-07 19:37:59</td>\n",
       "      <td>2</td>\n",
       "    </tr>\n",
       "    <tr>\n",
       "      <th>5924</th>\n",
       "      <td>2000200259404</td>\n",
       "      <td>784</td>\n",
       "      <td>1</td>\n",
       "      <td>2022-06-08 09:46:52</td>\n",
       "      <td>1</td>\n",
       "    </tr>\n",
       "    <tr>\n",
       "      <th>5925</th>\n",
       "      <td>2000200259435</td>\n",
       "      <td>2431</td>\n",
       "      <td>1</td>\n",
       "      <td>2022-06-01 12:34:41</td>\n",
       "      <td>8</td>\n",
       "    </tr>\n",
       "  </tbody>\n",
       "</table>\n",
       "<p>5926 rows × 5 columns</p>\n",
       "</div>"
      ],
      "text/plain": [
       "               card  purchase_sum  purchase_amout       last_purchase  \\\n",
       "0     2000200150015            21               1 2021-07-19 09:37:20   \n",
       "1     2000200150022          1351               1 2021-12-07 20:25:21   \n",
       "2     2000200150053           713               2 2022-03-17 20:50:23   \n",
       "3     2000200150091          3549               5 2022-06-05 11:49:47   \n",
       "4     2000200150107          1735               3 2022-06-02 17:54:19   \n",
       "...             ...           ...             ...                 ...   \n",
       "5921  2000200259015           664               1 2022-06-07 17:08:45   \n",
       "5922  2000200259381           245               1 2022-06-07 19:19:12   \n",
       "5923  2000200259398           395               1 2022-06-07 19:37:59   \n",
       "5924  2000200259404           784               1 2022-06-08 09:46:52   \n",
       "5925  2000200259435          2431               1 2022-06-01 12:34:41   \n",
       "\n",
       "      days_since_last_purchase  \n",
       "0                          325  \n",
       "1                          184  \n",
       "2                           84  \n",
       "3                            4  \n",
       "4                            7  \n",
       "...                        ...  \n",
       "5921                         2  \n",
       "5922                         2  \n",
       "5923                         2  \n",
       "5924                         1  \n",
       "5925                         8  \n",
       "\n",
       "[5926 rows x 5 columns]"
      ]
     },
     "execution_count": 9,
     "metadata": {},
     "output_type": "execute_result"
    }
   ],
   "source": [
    "df2['days_since_last_purchase']=(max(df['datetime'])-df2['last_purchase']).dt.days\n",
    "df2"
   ]
  },
  {
   "cell_type": "code",
   "execution_count": 10,
   "metadata": {},
   "outputs": [],
   "source": [
    "import seaborn as sns"
   ]
  },
  {
   "cell_type": "code",
   "execution_count": 11,
   "metadata": {},
   "outputs": [
    {
     "data": {
      "text/plain": [
       "<Axes: ylabel='purchase_sum'>"
      ]
     },
     "execution_count": 11,
     "metadata": {},
     "output_type": "execute_result"
    },
    {
     "data": {
      "image/png": "[encoded data removed]",
      "text/plain": [
       "<Figure size 640x480 with 1 Axes>"
      ]
     },
     "metadata": {},
     "output_type": "display_data"
    }
   ],
   "source": [
    "sns.violinplot(df2['purchase_sum'])"
   ]
  },
  {
   "cell_type": "code",
   "execution_count": 12,
   "metadata": {},
   "outputs": [],
   "source": [
    "import numpy as np"
   ]
  },
  {
   "cell_type": "code",
   "execution_count": 13,
   "metadata": {},
   "outputs": [],
   "source": [
    "quantiles=[round(el, 2) for el in np.arange(0.1, 1.1, 0.1)]"
   ]
  },
  {
   "cell_type": "code",
   "execution_count": 14,
   "metadata": {},
   "outputs": [
    {
     "data": {
      "text/plain": [
       "0.1       405.5\n",
       "0.2       620.0\n",
       "0.3       844.0\n",
       "0.4      1103.0\n",
       "0.5      1470.5\n",
       "0.6      2008.0\n",
       "0.7      2731.0\n",
       "0.8      4078.0\n",
       "0.9      6906.5\n",
       "1.0    162687.0\n",
       "Name: purchase_sum, dtype: float64"
      ]
     },
     "execution_count": 14,
     "metadata": {},
     "output_type": "execute_result"
    }
   ],
   "source": [
    "df2['purchase_sum'].quantile(quantiles)"
   ]
  },
  {
   "cell_type": "code",
   "execution_count": 15,
   "metadata": {},
   "outputs": [
    {
     "data": {
      "image/png": "[encoded data removed]",
      "text/plain": [
       "<Figure size 640x480 with 1 Axes>"
      ]
     },
     "metadata": {},
     "output_type": "display_data"
    }
   ],
   "source": [
    "ax=sns.barplot(df2['purchase_sum'].quantile(quantiles), orient='h')\n",
    "ax.bar_label(ax.containers[-1]);"
   ]
  },
  {
   "cell_type": "code",
   "execution_count": 16,
   "metadata": {},
   "outputs": [
    {
     "data": {
      "image/png": "[encoded data removed]",
      "text/plain": [
       "<Figure size 640x480 with 1 Axes>"
      ]
     },
     "metadata": {},
     "output_type": "display_data"
    }
   ],
   "source": [
    "ax=sns.barplot(df2['purchase_amout'].quantile(quantiles), orient='h')\n",
    "ax.bar_label(ax.containers[-1]);"
   ]
  },
  {
   "cell_type": "code",
   "execution_count": 17,
   "metadata": {},
   "outputs": [
    {
     "data": {
      "image/png": "[encoded data removed]",
      "text/plain": [
       "<Figure size 640x480 with 1 Axes>"
      ]
     },
     "metadata": {},
     "output_type": "display_data"
    }
   ],
   "source": [
    "ax=sns.barplot(df2['days_since_last_purchase'].quantile(quantiles), orient='h')\n",
    "ax.bar_label(ax.containers[-1]);"
   ]
  },
  {
   "cell_type": "code",
   "execution_count": 18,
   "metadata": {},
   "outputs": [],
   "source": [
    "quantiles=[0.33,0.66]"
   ]
  },
  {
   "cell_type": "code",
   "execution_count": 19,
   "metadata": {},
   "outputs": [
    {
     "data": {
      "text/plain": [
       "0.33     48.0\n",
       "0.66    143.0\n",
       "Name: days_since_last_purchase, dtype: float64"
      ]
     },
     "execution_count": 19,
     "metadata": {},
     "output_type": "execute_result"
    }
   ],
   "source": [
    "df2['days_since_last_purchase'].quantile(quantiles)\n"
   ]
  },
  {
   "cell_type": "code",
   "execution_count": 20,
   "metadata": {},
   "outputs": [
    {
     "data": {
      "text/html": [
       "<div>\n",
       "<style scoped>\n",
       "    .dataframe tbody tr th:only-of-type {\n",
       "        vertical-align: middle;\n",
       "    }\n",
       "\n",
       "    .dataframe tbody tr th {\n",
       "        vertical-align: top;\n",
       "    }\n",
       "\n",
       "    .dataframe thead th {\n",
       "        text-align: right;\n",
       "    }\n",
       "</style>\n",
       "<table border=\"1\" class=\"dataframe\">\n",
       "  <thead>\n",
       "    <tr style=\"text-align: right;\">\n",
       "      <th></th>\n",
       "      <th>card</th>\n",
       "      <th>purchase_sum</th>\n",
       "      <th>purchase_amout</th>\n",
       "      <th>last_purchase</th>\n",
       "      <th>days_since_last_purchase</th>\n",
       "    </tr>\n",
       "  </thead>\n",
       "  <tbody>\n",
       "    <tr>\n",
       "      <th>0</th>\n",
       "      <td>2000200150015</td>\n",
       "      <td>21</td>\n",
       "      <td>1</td>\n",
       "      <td>2021-07-19 09:37:20</td>\n",
       "      <td>325</td>\n",
       "    </tr>\n",
       "    <tr>\n",
       "      <th>1</th>\n",
       "      <td>2000200150022</td>\n",
       "      <td>1351</td>\n",
       "      <td>1</td>\n",
       "      <td>2021-12-07 20:25:21</td>\n",
       "      <td>184</td>\n",
       "    </tr>\n",
       "    <tr>\n",
       "      <th>2</th>\n",
       "      <td>2000200150053</td>\n",
       "      <td>713</td>\n",
       "      <td>2</td>\n",
       "      <td>2022-03-17 20:50:23</td>\n",
       "      <td>84</td>\n",
       "    </tr>\n",
       "    <tr>\n",
       "      <th>3</th>\n",
       "      <td>2000200150091</td>\n",
       "      <td>3549</td>\n",
       "      <td>5</td>\n",
       "      <td>2022-06-05 11:49:47</td>\n",
       "      <td>4</td>\n",
       "    </tr>\n",
       "    <tr>\n",
       "      <th>4</th>\n",
       "      <td>2000200150107</td>\n",
       "      <td>1735</td>\n",
       "      <td>3</td>\n",
       "      <td>2022-06-02 17:54:19</td>\n",
       "      <td>7</td>\n",
       "    </tr>\n",
       "    <tr>\n",
       "      <th>...</th>\n",
       "      <td>...</td>\n",
       "      <td>...</td>\n",
       "      <td>...</td>\n",
       "      <td>...</td>\n",
       "      <td>...</td>\n",
       "    </tr>\n",
       "    <tr>\n",
       "      <th>5921</th>\n",
       "      <td>2000200259015</td>\n",
       "      <td>664</td>\n",
       "      <td>1</td>\n",
       "      <td>2022-06-07 17:08:45</td>\n",
       "      <td>2</td>\n",
       "    </tr>\n",
       "    <tr>\n",
       "      <th>5922</th>\n",
       "      <td>2000200259381</td>\n",
       "      <td>245</td>\n",
       "      <td>1</td>\n",
       "      <td>2022-06-07 19:19:12</td>\n",
       "      <td>2</td>\n",
       "    </tr>\n",
       "    <tr>\n",
       "      <th>5923</th>\n",
       "      <td>2000200259398</td>\n",
       "      <td>395</td>\n",
       "      <td>1</td>\n",
       "      <td>2022-06-07 19:37:59</td>\n",
       "      <td>2</td>\n",
       "    </tr>\n",
       "    <tr>\n",
       "      <th>5924</th>\n",
       "      <td>2000200259404</td>\n",
       "      <td>784</td>\n",
       "      <td>1</td>\n",
       "      <td>2022-06-08 09:46:52</td>\n",
       "      <td>1</td>\n",
       "    </tr>\n",
       "    <tr>\n",
       "      <th>5925</th>\n",
       "      <td>2000200259435</td>\n",
       "      <td>2431</td>\n",
       "      <td>1</td>\n",
       "      <td>2022-06-01 12:34:41</td>\n",
       "      <td>8</td>\n",
       "    </tr>\n",
       "  </tbody>\n",
       "</table>\n",
       "<p>5926 rows × 5 columns</p>\n",
       "</div>"
      ],
      "text/plain": [
       "               card  purchase_sum  purchase_amout       last_purchase  \\\n",
       "0     2000200150015            21               1 2021-07-19 09:37:20   \n",
       "1     2000200150022          1351               1 2021-12-07 20:25:21   \n",
       "2     2000200150053           713               2 2022-03-17 20:50:23   \n",
       "3     2000200150091          3549               5 2022-06-05 11:49:47   \n",
       "4     2000200150107          1735               3 2022-06-02 17:54:19   \n",
       "...             ...           ...             ...                 ...   \n",
       "5921  2000200259015           664               1 2022-06-07 17:08:45   \n",
       "5922  2000200259381           245               1 2022-06-07 19:19:12   \n",
       "5923  2000200259398           395               1 2022-06-07 19:37:59   \n",
       "5924  2000200259404           784               1 2022-06-08 09:46:52   \n",
       "5925  2000200259435          2431               1 2022-06-01 12:34:41   \n",
       "\n",
       "      days_since_last_purchase  \n",
       "0                          325  \n",
       "1                          184  \n",
       "2                           84  \n",
       "3                            4  \n",
       "4                            7  \n",
       "...                        ...  \n",
       "5921                         2  \n",
       "5922                         2  \n",
       "5923                         2  \n",
       "5924                         1  \n",
       "5925                         8  \n",
       "\n",
       "[5926 rows x 5 columns]"
      ]
     },
     "execution_count": 20,
     "metadata": {},
     "output_type": "execute_result"
    }
   ],
   "source": [
    "df2"
   ]
  },
  {
   "cell_type": "code",
   "execution_count": 21,
   "metadata": {},
   "outputs": [
    {
     "name": "stdout",
     "output_type": "stream",
     "text": [
      "0       1\n",
      "1       1\n",
      "2       2\n",
      "3       5\n",
      "4       3\n",
      "       ..\n",
      "5921    1\n",
      "5922    1\n",
      "5923    1\n",
      "5924    1\n",
      "5925    1\n",
      "Name: purchase_amout, Length: 5926, dtype: int64\n"
     ]
    }
   ],
   "source": [
    "print(df2['purchase_amout'])"
   ]
  },
  {
   "cell_type": "code",
   "execution_count": 22,
   "metadata": {},
   "outputs": [],
   "source": [
    "def set_score(val, var, perc_33, perc_66):\n",
    "  if val < perc_33:\n",
    "    return 3 if var != 'R' else 1\n",
    "  elif val < perc_66:\n",
    "    return 2\n",
    "  else:\n",
    "    return 1 if var != 'R' else 3\n",
    "\n",
    "recency_quantiles = df2['days_since_last_purchase'].quantile(quantiles)\n",
    "df2['R'] = df2['days_since_last_purchase'].apply(\n",
    "  set_score, args=('R', recency_quantiles.iloc[0], recency_quantiles.iloc[1]))\n",
    "\n",
    "frequency_quantiles = df2['purchase_amout'].quantile(quantiles)\n",
    "df2['F'] = df2['purchase_amout'].apply(\n",
    "  set_score, args=('F', frequency_quantiles.iloc[0], frequency_quantiles.iloc[1]))\n",
    "\n",
    "monetary_quantiles = df2['purchase_sum'].quantile(quantiles)\n",
    "df2['M'] = df2['purchase_sum'].apply(\n",
    "  set_score, args=('M', monetary_quantiles.iloc[0], monetary_quantiles.iloc[1]))"
   ]
  },
  {
   "cell_type": "code",
   "execution_count": 23,
   "metadata": {},
   "outputs": [
    {
     "data": {
      "text/html": [
       "<div>\n",
       "<style scoped>\n",
       "    .dataframe tbody tr th:only-of-type {\n",
       "        vertical-align: middle;\n",
       "    }\n",
       "\n",
       "    .dataframe tbody tr th {\n",
       "        vertical-align: top;\n",
       "    }\n",
       "\n",
       "    .dataframe thead th {\n",
       "        text-align: right;\n",
       "    }\n",
       "</style>\n",
       "<table border=\"1\" class=\"dataframe\">\n",
       "  <thead>\n",
       "    <tr style=\"text-align: right;\">\n",
       "      <th></th>\n",
       "      <th>card</th>\n",
       "      <th>purchase_sum</th>\n",
       "      <th>purchase_amout</th>\n",
       "      <th>last_purchase</th>\n",
       "      <th>days_since_last_purchase</th>\n",
       "      <th>R</th>\n",
       "      <th>F</th>\n",
       "      <th>M</th>\n",
       "    </tr>\n",
       "  </thead>\n",
       "  <tbody>\n",
       "    <tr>\n",
       "      <th>0</th>\n",
       "      <td>2000200150015</td>\n",
       "      <td>21</td>\n",
       "      <td>1</td>\n",
       "      <td>2021-07-19 09:37:20</td>\n",
       "      <td>325</td>\n",
       "      <td>3</td>\n",
       "      <td>2</td>\n",
       "      <td>3</td>\n",
       "    </tr>\n",
       "    <tr>\n",
       "      <th>1</th>\n",
       "      <td>2000200150022</td>\n",
       "      <td>1351</td>\n",
       "      <td>1</td>\n",
       "      <td>2021-12-07 20:25:21</td>\n",
       "      <td>184</td>\n",
       "      <td>3</td>\n",
       "      <td>2</td>\n",
       "      <td>2</td>\n",
       "    </tr>\n",
       "    <tr>\n",
       "      <th>2</th>\n",
       "      <td>2000200150053</td>\n",
       "      <td>713</td>\n",
       "      <td>2</td>\n",
       "      <td>2022-03-17 20:50:23</td>\n",
       "      <td>84</td>\n",
       "      <td>2</td>\n",
       "      <td>2</td>\n",
       "      <td>3</td>\n",
       "    </tr>\n",
       "    <tr>\n",
       "      <th>3</th>\n",
       "      <td>2000200150091</td>\n",
       "      <td>3549</td>\n",
       "      <td>5</td>\n",
       "      <td>2022-06-05 11:49:47</td>\n",
       "      <td>4</td>\n",
       "      <td>1</td>\n",
       "      <td>1</td>\n",
       "      <td>1</td>\n",
       "    </tr>\n",
       "    <tr>\n",
       "      <th>4</th>\n",
       "      <td>2000200150107</td>\n",
       "      <td>1735</td>\n",
       "      <td>3</td>\n",
       "      <td>2022-06-02 17:54:19</td>\n",
       "      <td>7</td>\n",
       "      <td>1</td>\n",
       "      <td>1</td>\n",
       "      <td>2</td>\n",
       "    </tr>\n",
       "    <tr>\n",
       "      <th>...</th>\n",
       "      <td>...</td>\n",
       "      <td>...</td>\n",
       "      <td>...</td>\n",
       "      <td>...</td>\n",
       "      <td>...</td>\n",
       "      <td>...</td>\n",
       "      <td>...</td>\n",
       "      <td>...</td>\n",
       "    </tr>\n",
       "    <tr>\n",
       "      <th>5921</th>\n",
       "      <td>2000200259015</td>\n",
       "      <td>664</td>\n",
       "      <td>1</td>\n",
       "      <td>2022-06-07 17:08:45</td>\n",
       "      <td>2</td>\n",
       "      <td>1</td>\n",
       "      <td>2</td>\n",
       "      <td>3</td>\n",
       "    </tr>\n",
       "    <tr>\n",
       "      <th>5922</th>\n",
       "      <td>2000200259381</td>\n",
       "      <td>245</td>\n",
       "      <td>1</td>\n",
       "      <td>2022-06-07 19:19:12</td>\n",
       "      <td>2</td>\n",
       "      <td>1</td>\n",
       "      <td>2</td>\n",
       "      <td>3</td>\n",
       "    </tr>\n",
       "    <tr>\n",
       "      <th>5923</th>\n",
       "      <td>2000200259398</td>\n",
       "      <td>395</td>\n",
       "      <td>1</td>\n",
       "      <td>2022-06-07 19:37:59</td>\n",
       "      <td>2</td>\n",
       "      <td>1</td>\n",
       "      <td>2</td>\n",
       "      <td>3</td>\n",
       "    </tr>\n",
       "    <tr>\n",
       "      <th>5924</th>\n",
       "      <td>2000200259404</td>\n",
       "      <td>784</td>\n",
       "      <td>1</td>\n",
       "      <td>2022-06-08 09:46:52</td>\n",
       "      <td>1</td>\n",
       "      <td>1</td>\n",
       "      <td>2</td>\n",
       "      <td>3</td>\n",
       "    </tr>\n",
       "    <tr>\n",
       "      <th>5925</th>\n",
       "      <td>2000200259435</td>\n",
       "      <td>2431</td>\n",
       "      <td>1</td>\n",
       "      <td>2022-06-01 12:34:41</td>\n",
       "      <td>8</td>\n",
       "      <td>1</td>\n",
       "      <td>2</td>\n",
       "      <td>1</td>\n",
       "    </tr>\n",
       "  </tbody>\n",
       "</table>\n",
       "<p>5926 rows × 8 columns</p>\n",
       "</div>"
      ],
      "text/plain": [
       "               card  purchase_sum  purchase_amout       last_purchase  \\\n",
       "0     2000200150015            21               1 2021-07-19 09:37:20   \n",
       "1     2000200150022          1351               1 2021-12-07 20:25:21   \n",
       "2     2000200150053           713               2 2022-03-17 20:50:23   \n",
       "3     2000200150091          3549               5 2022-06-05 11:49:47   \n",
       "4     2000200150107          1735               3 2022-06-02 17:54:19   \n",
       "...             ...           ...             ...                 ...   \n",
       "5921  2000200259015           664               1 2022-06-07 17:08:45   \n",
       "5922  2000200259381           245               1 2022-06-07 19:19:12   \n",
       "5923  2000200259398           395               1 2022-06-07 19:37:59   \n",
       "5924  2000200259404           784               1 2022-06-08 09:46:52   \n",
       "5925  2000200259435          2431               1 2022-06-01 12:34:41   \n",
       "\n",
       "      days_since_last_purchase  R  F  M  \n",
       "0                          325  3  2  3  \n",
       "1                          184  3  2  2  \n",
       "2                           84  2  2  3  \n",
       "3                            4  1  1  1  \n",
       "4                            7  1  1  2  \n",
       "...                        ... .. .. ..  \n",
       "5921                         2  1  2  3  \n",
       "5922                         2  1  2  3  \n",
       "5923                         2  1  2  3  \n",
       "5924                         1  1  2  3  \n",
       "5925                         8  1  2  1  \n",
       "\n",
       "[5926 rows x 8 columns]"
      ]
     },
     "execution_count": 23,
     "metadata": {},
     "output_type": "execute_result"
    }
   ],
   "source": [
    "df2"
   ]
  },
  {
   "cell_type": "code",
   "execution_count": 24,
   "metadata": {},
   "outputs": [],
   "source": [
    "df2['RFM']=df2.apply(lambda row: f\"{row['R']}{row['F']}{row['M']}\", axis=1)"
   ]
  },
  {
   "cell_type": "code",
   "execution_count": 25,
   "metadata": {},
   "outputs": [
    {
     "data": {
      "text/html": [
       "<div>\n",
       "<style scoped>\n",
       "    .dataframe tbody tr th:only-of-type {\n",
       "        vertical-align: middle;\n",
       "    }\n",
       "\n",
       "    .dataframe tbody tr th {\n",
       "        vertical-align: top;\n",
       "    }\n",
       "\n",
       "    .dataframe thead th {\n",
       "        text-align: right;\n",
       "    }\n",
       "</style>\n",
       "<table border=\"1\" class=\"dataframe\">\n",
       "  <thead>\n",
       "    <tr style=\"text-align: right;\">\n",
       "      <th></th>\n",
       "      <th>card</th>\n",
       "      <th>purchase_sum</th>\n",
       "      <th>purchase_amout</th>\n",
       "      <th>last_purchase</th>\n",
       "      <th>days_since_last_purchase</th>\n",
       "      <th>R</th>\n",
       "      <th>F</th>\n",
       "      <th>M</th>\n",
       "      <th>RFM</th>\n",
       "    </tr>\n",
       "  </thead>\n",
       "  <tbody>\n",
       "    <tr>\n",
       "      <th>0</th>\n",
       "      <td>2000200150015</td>\n",
       "      <td>21</td>\n",
       "      <td>1</td>\n",
       "      <td>2021-07-19 09:37:20</td>\n",
       "      <td>325</td>\n",
       "      <td>3</td>\n",
       "      <td>2</td>\n",
       "      <td>3</td>\n",
       "      <td>323</td>\n",
       "    </tr>\n",
       "    <tr>\n",
       "      <th>1</th>\n",
       "      <td>2000200150022</td>\n",
       "      <td>1351</td>\n",
       "      <td>1</td>\n",
       "      <td>2021-12-07 20:25:21</td>\n",
       "      <td>184</td>\n",
       "      <td>3</td>\n",
       "      <td>2</td>\n",
       "      <td>2</td>\n",
       "      <td>322</td>\n",
       "    </tr>\n",
       "    <tr>\n",
       "      <th>2</th>\n",
       "      <td>2000200150053</td>\n",
       "      <td>713</td>\n",
       "      <td>2</td>\n",
       "      <td>2022-03-17 20:50:23</td>\n",
       "      <td>84</td>\n",
       "      <td>2</td>\n",
       "      <td>2</td>\n",
       "      <td>3</td>\n",
       "      <td>223</td>\n",
       "    </tr>\n",
       "    <tr>\n",
       "      <th>3</th>\n",
       "      <td>2000200150091</td>\n",
       "      <td>3549</td>\n",
       "      <td>5</td>\n",
       "      <td>2022-06-05 11:49:47</td>\n",
       "      <td>4</td>\n",
       "      <td>1</td>\n",
       "      <td>1</td>\n",
       "      <td>1</td>\n",
       "      <td>111</td>\n",
       "    </tr>\n",
       "    <tr>\n",
       "      <th>4</th>\n",
       "      <td>2000200150107</td>\n",
       "      <td>1735</td>\n",
       "      <td>3</td>\n",
       "      <td>2022-06-02 17:54:19</td>\n",
       "      <td>7</td>\n",
       "      <td>1</td>\n",
       "      <td>1</td>\n",
       "      <td>2</td>\n",
       "      <td>112</td>\n",
       "    </tr>\n",
       "    <tr>\n",
       "      <th>...</th>\n",
       "      <td>...</td>\n",
       "      <td>...</td>\n",
       "      <td>...</td>\n",
       "      <td>...</td>\n",
       "      <td>...</td>\n",
       "      <td>...</td>\n",
       "      <td>...</td>\n",
       "      <td>...</td>\n",
       "      <td>...</td>\n",
       "    </tr>\n",
       "    <tr>\n",
       "      <th>5921</th>\n",
       "      <td>2000200259015</td>\n",
       "      <td>664</td>\n",
       "      <td>1</td>\n",
       "      <td>2022-06-07 17:08:45</td>\n",
       "      <td>2</td>\n",
       "      <td>1</td>\n",
       "      <td>2</td>\n",
       "      <td>3</td>\n",
       "      <td>123</td>\n",
       "    </tr>\n",
       "    <tr>\n",
       "      <th>5922</th>\n",
       "      <td>2000200259381</td>\n",
       "      <td>245</td>\n",
       "      <td>1</td>\n",
       "      <td>2022-06-07 19:19:12</td>\n",
       "      <td>2</td>\n",
       "      <td>1</td>\n",
       "      <td>2</td>\n",
       "      <td>3</td>\n",
       "      <td>123</td>\n",
       "    </tr>\n",
       "    <tr>\n",
       "      <th>5923</th>\n",
       "      <td>2000200259398</td>\n",
       "      <td>395</td>\n",
       "      <td>1</td>\n",
       "      <td>2022-06-07 19:37:59</td>\n",
       "      <td>2</td>\n",
       "      <td>1</td>\n",
       "      <td>2</td>\n",
       "      <td>3</td>\n",
       "      <td>123</td>\n",
       "    </tr>\n",
       "    <tr>\n",
       "      <th>5924</th>\n",
       "      <td>2000200259404</td>\n",
       "      <td>784</td>\n",
       "      <td>1</td>\n",
       "      <td>2022-06-08 09:46:52</td>\n",
       "      <td>1</td>\n",
       "      <td>1</td>\n",
       "      <td>2</td>\n",
       "      <td>3</td>\n",
       "      <td>123</td>\n",
       "    </tr>\n",
       "    <tr>\n",
       "      <th>5925</th>\n",
       "      <td>2000200259435</td>\n",
       "      <td>2431</td>\n",
       "      <td>1</td>\n",
       "      <td>2022-06-01 12:34:41</td>\n",
       "      <td>8</td>\n",
       "      <td>1</td>\n",
       "      <td>2</td>\n",
       "      <td>1</td>\n",
       "      <td>121</td>\n",
       "    </tr>\n",
       "  </tbody>\n",
       "</table>\n",
       "<p>5926 rows × 9 columns</p>\n",
       "</div>"
      ],
      "text/plain": [
       "               card  purchase_sum  purchase_amout       last_purchase  \\\n",
       "0     2000200150015            21               1 2021-07-19 09:37:20   \n",
       "1     2000200150022          1351               1 2021-12-07 20:25:21   \n",
       "2     2000200150053           713               2 2022-03-17 20:50:23   \n",
       "3     2000200150091          3549               5 2022-06-05 11:49:47   \n",
       "4     2000200150107          1735               3 2022-06-02 17:54:19   \n",
       "...             ...           ...             ...                 ...   \n",
       "5921  2000200259015           664               1 2022-06-07 17:08:45   \n",
       "5922  2000200259381           245               1 2022-06-07 19:19:12   \n",
       "5923  2000200259398           395               1 2022-06-07 19:37:59   \n",
       "5924  2000200259404           784               1 2022-06-08 09:46:52   \n",
       "5925  2000200259435          2431               1 2022-06-01 12:34:41   \n",
       "\n",
       "      days_since_last_purchase  R  F  M  RFM  \n",
       "0                          325  3  2  3  323  \n",
       "1                          184  3  2  2  322  \n",
       "2                           84  2  2  3  223  \n",
       "3                            4  1  1  1  111  \n",
       "4                            7  1  1  2  112  \n",
       "...                        ... .. .. ..  ...  \n",
       "5921                         2  1  2  3  123  \n",
       "5922                         2  1  2  3  123  \n",
       "5923                         2  1  2  3  123  \n",
       "5924                         1  1  2  3  123  \n",
       "5925                         8  1  2  1  121  \n",
       "\n",
       "[5926 rows x 9 columns]"
      ]
     },
     "execution_count": 25,
     "metadata": {},
     "output_type": "execute_result"
    }
   ],
   "source": [
    "df2"
   ]
  },
  {
   "cell_type": "code",
   "execution_count": 26,
   "metadata": {},
   "outputs": [],
   "source": [
    "import plotly.express as px "
   ]
  },
  {
   "cell_type": "code",
   "execution_count": 27,
   "metadata": {},
   "outputs": [
    {
     "data": {
      "text/html": [
       "<div>\n",
       "<style scoped>\n",
       "    .dataframe tbody tr th:only-of-type {\n",
       "        vertical-align: middle;\n",
       "    }\n",
       "\n",
       "    .dataframe tbody tr th {\n",
       "        vertical-align: top;\n",
       "    }\n",
       "\n",
       "    .dataframe thead th {\n",
       "        text-align: right;\n",
       "    }\n",
       "</style>\n",
       "<table border=\"1\" class=\"dataframe\">\n",
       "  <thead>\n",
       "    <tr style=\"text-align: right;\">\n",
       "      <th></th>\n",
       "      <th>RFM</th>\n",
       "      <th>count</th>\n",
       "    </tr>\n",
       "  </thead>\n",
       "  <tbody>\n",
       "    <tr>\n",
       "      <th>0</th>\n",
       "      <td>111</td>\n",
       "      <td>862</td>\n",
       "    </tr>\n",
       "    <tr>\n",
       "      <th>1</th>\n",
       "      <td>112</td>\n",
       "      <td>203</td>\n",
       "    </tr>\n",
       "    <tr>\n",
       "      <th>2</th>\n",
       "      <td>113</td>\n",
       "      <td>32</td>\n",
       "    </tr>\n",
       "    <tr>\n",
       "      <th>3</th>\n",
       "      <td>121</td>\n",
       "      <td>118</td>\n",
       "    </tr>\n",
       "    <tr>\n",
       "      <th>4</th>\n",
       "      <td>122</td>\n",
       "      <td>340</td>\n",
       "    </tr>\n",
       "    <tr>\n",
       "      <th>5</th>\n",
       "      <td>123</td>\n",
       "      <td>395</td>\n",
       "    </tr>\n",
       "    <tr>\n",
       "      <th>6</th>\n",
       "      <td>211</td>\n",
       "      <td>488</td>\n",
       "    </tr>\n",
       "    <tr>\n",
       "      <th>7</th>\n",
       "      <td>212</td>\n",
       "      <td>223</td>\n",
       "    </tr>\n",
       "    <tr>\n",
       "      <th>8</th>\n",
       "      <td>213</td>\n",
       "      <td>34</td>\n",
       "    </tr>\n",
       "    <tr>\n",
       "      <th>9</th>\n",
       "      <td>221</td>\n",
       "      <td>176</td>\n",
       "    </tr>\n",
       "    <tr>\n",
       "      <th>10</th>\n",
       "      <td>222</td>\n",
       "      <td>461</td>\n",
       "    </tr>\n",
       "    <tr>\n",
       "      <th>11</th>\n",
       "      <td>223</td>\n",
       "      <td>577</td>\n",
       "    </tr>\n",
       "    <tr>\n",
       "      <th>12</th>\n",
       "      <td>311</td>\n",
       "      <td>197</td>\n",
       "    </tr>\n",
       "    <tr>\n",
       "      <th>13</th>\n",
       "      <td>312</td>\n",
       "      <td>127</td>\n",
       "    </tr>\n",
       "    <tr>\n",
       "      <th>14</th>\n",
       "      <td>313</td>\n",
       "      <td>19</td>\n",
       "    </tr>\n",
       "    <tr>\n",
       "      <th>15</th>\n",
       "      <td>321</td>\n",
       "      <td>174</td>\n",
       "    </tr>\n",
       "    <tr>\n",
       "      <th>16</th>\n",
       "      <td>322</td>\n",
       "      <td>601</td>\n",
       "    </tr>\n",
       "    <tr>\n",
       "      <th>17</th>\n",
       "      <td>323</td>\n",
       "      <td>899</td>\n",
       "    </tr>\n",
       "  </tbody>\n",
       "</table>\n",
       "</div>"
      ],
      "text/plain": [
       "    RFM  count\n",
       "0   111    862\n",
       "1   112    203\n",
       "2   113     32\n",
       "3   121    118\n",
       "4   122    340\n",
       "5   123    395\n",
       "6   211    488\n",
       "7   212    223\n",
       "8   213     34\n",
       "9   221    176\n",
       "10  222    461\n",
       "11  223    577\n",
       "12  311    197\n",
       "13  312    127\n",
       "14  313     19\n",
       "15  321    174\n",
       "16  322    601\n",
       "17  323    899"
      ]
     },
     "execution_count": 27,
     "metadata": {},
     "output_type": "execute_result"
    }
   ],
   "source": [
    "df3=df2.groupby(\"RFM\")['RFM'].agg({'count'}).reset_index()\n",
    "df3"
   ]
  },
  {
   "cell_type": "code",
   "execution_count": 28,
   "metadata": {},
   "outputs": [
    {
     "data": {
      "application/vnd.plotly.v1+json": {
       "config": {
        "plotlyServerURL": "https://plot.ly"
       },
       "data": [
        {
         "branchvalues": "total",
         "domain": {
          "x": [
           0,
           1
          ],
          "y": [
           0,
           1
          ]
         },
         "hovertemplate": "labels=%{label}<br>count=%{value}<br>parent=%{parent}<br>id=%{id}<extra></extra>",
         "ids": [
          "111",
          "112",
          "113",
          "121",
          "122",
          "123",
          "211",
          "212",
          "213",
          "221",
          "222",
          "223",
          "311",
          "312",
          "313",
          "321",
          "322",
          "323"
         ],
         "labels": [
          "111",
          "112",
          "113",
          "121",
          "122",
          "123",
          "211",
          "212",
          "213",
          "221",
          "222",
          "223",
          "311",
          "312",
          "313",
          "321",
          "322",
          "323"
         ],
         "name": "",
         "parents": [
          "",
          "",
          "",
          "",
          "",
          "",
          "",
          "",
          "",
          "",
          "",
          "",
          "",
          "",
          "",
          "",
          "",
          ""
         ],
         "type": "treemap",
         "values": [
          862,
          203,
          32,
          118,
          340,
          395,
          488,
          223,
          34,
          176,
          461,
          577,
          197,
          127,
          19,
          174,
          601,
          899
         ]
        }
       ],
       "layout": {
        "legend": {
         "tracegroupgap": 0
        },
        "margin": {
         "t": 60
        },
        "template": {
         "data": {
          "bar": [
           {
            "error_x": {
             "color": "#2a3f5f"
            },
            "error_y": {
             "color": "#2a3f5f"
            },
            "marker": {
             "line": {
              "color": "#E5ECF6",
              "width": 0.5
             },
             "pattern": {
              "fillmode": "overlay",
              "size": 10,
              "solidity": 0.2
             }
            },
            "type": "bar"
           }
          ],
          "barpolar": [
           {
            "marker": {
             "line": {
              "color": "#E5ECF6",
              "width": 0.5
             },
             "pattern": {
              "fillmode": "overlay",
              "size": 10,
              "solidity": 0.2
             }
            },
            "type": "barpolar"
           }
          ],
          "carpet": [
           {
            "aaxis": {
             "endlinecolor": "#2a3f5f",
             "gridcolor": "white",
             "linecolor": "white",
             "minorgridcolor": "white",
             "startlinecolor": "#2a3f5f"
            },
            "baxis": {
             "endlinecolor": "#2a3f5f",
             "gridcolor": "white",
             "linecolor": "white",
             "minorgridcolor": "white",
             "startlinecolor": "#2a3f5f"
            },
            "type": "carpet"
           }
          ],
          "choropleth": [
           {
            "colorbar": {
             "outlinewidth": 0,
             "ticks": ""
            },
            "type": "choropleth"
           }
          ],
          "contour": [
           {
            "colorbar": {
             "outlinewidth": 0,
             "ticks": ""
            },
            "colorscale": [
             [
              0,
              "#0d0887"
             ],
             [
              0.1111111111111111,
              "#46039f"
             ],
             [
              0.2222222222222222,
              "#7201a8"
             ],
             [
              0.3333333333333333,
              "#9c179e"
             ],
             [
              0.4444444444444444,
              "#bd3786"
             ],
             [
              0.5555555555555556,
              "#d8576b"
             ],
             [
              0.6666666666666666,
              "#ed7953"
             ],
             [
              0.7777777777777778,
              "#fb9f3a"
             ],
             [
              0.8888888888888888,
              "#fdca26"
             ],
             [
              1,
              "#f0f921"
             ]
            ],
            "type": "contour"
           }
          ],
          "contourcarpet": [
           {
            "colorbar": {
             "outlinewidth": 0,
             "ticks": ""
            },
            "type": "contourcarpet"
           }
          ],
          "heatmap": [
           {
            "colorbar": {
             "outlinewidth": 0,
             "ticks": ""
            },
            "colorscale": [
             [
              0,
              "#0d0887"
             ],
             [
              0.1111111111111111,
              "#46039f"
             ],
             [
              0.2222222222222222,
              "#7201a8"
             ],
             [
              0.3333333333333333,
              "#9c179e"
             ],
             [
              0.4444444444444444,
              "#bd3786"
             ],
             [
              0.5555555555555556,
              "#d8576b"
             ],
             [
              0.6666666666666666,
              "#ed7953"
             ],
             [
              0.7777777777777778,
              "#fb9f3a"
             ],
             [
              0.8888888888888888,
              "#fdca26"
             ],
             [
              1,
              "#f0f921"
             ]
            ],
            "type": "heatmap"
           }
          ],
          "heatmapgl": [
           {
            "colorbar": {
             "outlinewidth": 0,
             "ticks": ""
            },
            "colorscale": [
             [
              0,
              "#0d0887"
             ],
             [
              0.1111111111111111,
              "#46039f"
             ],
             [
              0.2222222222222222,
              "#7201a8"
             ],
             [
              0.3333333333333333,
              "#9c179e"
             ],
             [
              0.4444444444444444,
              "#bd3786"
             ],
             [
              0.5555555555555556,
              "#d8576b"
             ],
             [
              0.6666666666666666,
              "#ed7953"
             ],
             [
              0.7777777777777778,
              "#fb9f3a"
             ],
             [
              0.8888888888888888,
              "#fdca26"
             ],
             [
              1,
              "#f0f921"
             ]
            ],
            "type": "heatmapgl"
           }
          ],
          "histogram": [
           {
            "marker": {
             "pattern": {
              "fillmode": "overlay",
              "size": 10,
              "solidity": 0.2
             }
            },
            "type": "histogram"
           }
          ],
          "histogram2d": [
           {
            "colorbar": {
             "outlinewidth": 0,
             "ticks": ""
            },
            "colorscale": [
             [
              0,
              "#0d0887"
             ],
             [
              0.1111111111111111,
              "#46039f"
             ],
             [
              0.2222222222222222,
              "#7201a8"
             ],
             [
              0.3333333333333333,
              "#9c179e"
             ],
             [
              0.4444444444444444,
              "#bd3786"
             ],
             [
              0.5555555555555556,
              "#d8576b"
             ],
             [
              0.6666666666666666,
              "#ed7953"
             ],
             [
              0.7777777777777778,
              "#fb9f3a"
             ],
             [
              0.8888888888888888,
              "#fdca26"
             ],
             [
              1,
              "#f0f921"
             ]
            ],
            "type": "histogram2d"
           }
          ],
          "histogram2dcontour": [
           {
            "colorbar": {
             "outlinewidth": 0,
             "ticks": ""
            },
            "colorscale": [
             [
              0,
              "#0d0887"
             ],
             [
              0.1111111111111111,
              "#46039f"
             ],
             [
              0.2222222222222222,
              "#7201a8"
             ],
             [
              0.3333333333333333,
              "#9c179e"
             ],
             [
              0.4444444444444444,
              "#bd3786"
             ],
             [
              0.5555555555555556,
              "#d8576b"
             ],
             [
              0.6666666666666666,
              "#ed7953"
             ],
             [
              0.7777777777777778,
              "#fb9f3a"
             ],
             [
              0.8888888888888888,
              "#fdca26"
             ],
             [
              1,
              "#f0f921"
             ]
            ],
            "type": "histogram2dcontour"
           }
          ],
          "mesh3d": [
           {
            "colorbar": {
             "outlinewidth": 0,
             "ticks": ""
            },
            "type": "mesh3d"
           }
          ],
          "parcoords": [
           {
            "line": {
             "colorbar": {
              "outlinewidth": 0,
              "ticks": ""
             }
            },
            "type": "parcoords"
           }
          ],
          "pie": [
           {
            "automargin": true,
            "type": "pie"
           }
          ],
          "scatter": [
           {
            "fillpattern": {
             "fillmode": "overlay",
             "size": 10,
             "solidity": 0.2
            },
            "type": "scatter"
           }
          ],
          "scatter3d": [
           {
            "line": {
             "colorbar": {
              "outlinewidth": 0,
              "ticks": ""
             }
            },
            "marker": {
             "colorbar": {
              "outlinewidth": 0,
              "ticks": ""
             }
            },
            "type": "scatter3d"
           }
          ],
          "scattercarpet": [
           {
            "marker": {
             "colorbar": {
              "outlinewidth": 0,
              "ticks": ""
             }
            },
            "type": "scattercarpet"
           }
          ],
          "scattergeo": [
           {
            "marker": {
             "colorbar": {
              "outlinewidth": 0,
              "ticks": ""
             }
            },
            "type": "scattergeo"
           }
          ],
          "scattergl": [
           {
            "marker": {
             "colorbar": {
              "outlinewidth": 0,
              "ticks": ""
             }
            },
            "type": "scattergl"
           }
          ],
          "scattermapbox": [
           {
            "marker": {
             "colorbar": {
              "outlinewidth": 0,
              "ticks": ""
             }
            },
            "type": "scattermapbox"
           }
          ],
          "scatterpolar": [
           {
            "marker": {
             "colorbar": {
              "outlinewidth": 0,
              "ticks": ""
             }
            },
            "type": "scatterpolar"
           }
          ],
          "scatterpolargl": [
           {
            "marker": {
             "colorbar": {
              "outlinewidth": 0,
              "ticks": ""
             }
            },
            "type": "scatterpolargl"
           }
          ],
          "scatterternary": [
           {
            "marker": {
             "colorbar": {
              "outlinewidth": 0,
              "ticks": ""
             }
            },
            "type": "scatterternary"
           }
          ],
          "surface": [
           {
            "colorbar": {
             "outlinewidth": 0,
             "ticks": ""
            },
            "colorscale": [
             [
              0,
              "#0d0887"
             ],
             [
              0.1111111111111111,
              "#46039f"
             ],
             [
              0.2222222222222222,
              "#7201a8"
             ],
             [
              0.3333333333333333,
              "#9c179e"
             ],
             [
              0.4444444444444444,
              "#bd3786"
             ],
             [
              0.5555555555555556,
              "#d8576b"
             ],
             [
              0.6666666666666666,
              "#ed7953"
             ],
             [
              0.7777777777777778,
              "#fb9f3a"
             ],
             [
              0.8888888888888888,
              "#fdca26"
             ],
             [
              1,
              "#f0f921"
             ]
            ],
            "type": "surface"
           }
          ],
          "table": [
           {
            "cells": {
             "fill": {
              "color": "#EBF0F8"
             },
             "line": {
              "color": "white"
             }
            },
            "header": {
             "fill": {
              "color": "#C8D4E3"
             },
             "line": {
              "color": "white"
             }
            },
            "type": "table"
           }
          ]
         },
         "layout": {
          "annotationdefaults": {
           "arrowcolor": "#2a3f5f",
           "arrowhead": 0,
           "arrowwidth": 1
          },
          "autotypenumbers": "strict",
          "coloraxis": {
           "colorbar": {
            "outlinewidth": 0,
            "ticks": ""
           }
          },
          "colorscale": {
           "diverging": [
            [
             0,
             "#8e0152"
            ],
            [
             0.1,
             "#c51b7d"
            ],
            [
             0.2,
             "#de77ae"
            ],
            [
             0.3,
             "#f1b6da"
            ],
            [
             0.4,
             "#fde0ef"
            ],
            [
             0.5,
             "#f7f7f7"
            ],
            [
             0.6,
             "#e6f5d0"
            ],
            [
             0.7,
             "#b8e186"
            ],
            [
             0.8,
             "#7fbc41"
            ],
            [
             0.9,
             "#4d9221"
            ],
            [
             1,
             "#276419"
            ]
           ],
           "sequential": [
            [
             0,
             "#0d0887"
            ],
            [
             0.1111111111111111,
             "#46039f"
            ],
            [
             0.2222222222222222,
             "#7201a8"
            ],
            [
             0.3333333333333333,
             "#9c179e"
            ],
            [
             0.4444444444444444,
             "#bd3786"
            ],
            [
             0.5555555555555556,
             "#d8576b"
            ],
            [
             0.6666666666666666,
             "#ed7953"
            ],
            [
             0.7777777777777778,
             "#fb9f3a"
            ],
            [
             0.8888888888888888,
             "#fdca26"
            ],
            [
             1,
             "#f0f921"
            ]
           ],
           "sequentialminus": [
            [
             0,
             "#0d0887"
            ],
            [
             0.1111111111111111,
             "#46039f"
            ],
            [
             0.2222222222222222,
             "#7201a8"
            ],
            [
             0.3333333333333333,
             "#9c179e"
            ],
            [
             0.4444444444444444,
             "#bd3786"
            ],
            [
             0.5555555555555556,
             "#d8576b"
            ],
            [
             0.6666666666666666,
             "#ed7953"
            ],
            [
             0.7777777777777778,
             "#fb9f3a"
            ],
            [
             0.8888888888888888,
             "#fdca26"
            ],
            [
             1,
             "#f0f921"
            ]
           ]
          },
          "colorway": [
           "#636efa",
           "#EF553B",
           "#00cc96",
           "#ab63fa",
           "#FFA15A",
           "#19d3f3",
           "#FF6692",
           "#B6E880",
           "#FF97FF",
           "#FECB52"
          ],
          "font": {
           "color": "#2a3f5f"
          },
          "geo": {
           "bgcolor": "white",
           "lakecolor": "white",
           "landcolor": "#E5ECF6",
           "showlakes": true,
           "showland": true,
           "subunitcolor": "white"
          },
          "hoverlabel": {
           "align": "left"
          },
          "hovermode": "closest",
          "mapbox": {
           "style": "light"
          },
          "paper_bgcolor": "white",
          "plot_bgcolor": "#E5ECF6",
          "polar": {
           "angularaxis": {
            "gridcolor": "white",
            "linecolor": "white",
            "ticks": ""
           },
           "bgcolor": "#E5ECF6",
           "radialaxis": {
            "gridcolor": "white",
            "linecolor": "white",
            "ticks": ""
           }
          },
          "scene": {
           "xaxis": {
            "backgroundcolor": "#E5ECF6",
            "gridcolor": "white",
            "gridwidth": 2,
            "linecolor": "white",
            "showbackground": true,
            "ticks": "",
            "zerolinecolor": "white"
           },
           "yaxis": {
            "backgroundcolor": "#E5ECF6",
            "gridcolor": "white",
            "gridwidth": 2,
            "linecolor": "white",
            "showbackground": true,
            "ticks": "",
            "zerolinecolor": "white"
           },
           "zaxis": {
            "backgroundcolor": "#E5ECF6",
            "gridcolor": "white",
            "gridwidth": 2,
            "linecolor": "white",
            "showbackground": true,
            "ticks": "",
            "zerolinecolor": "white"
           }
          },
          "shapedefaults": {
           "line": {
            "color": "#2a3f5f"
           }
          },
          "ternary": {
           "aaxis": {
            "gridcolor": "white",
            "linecolor": "white",
            "ticks": ""
           },
           "baxis": {
            "gridcolor": "white",
            "linecolor": "white",
            "ticks": ""
           },
           "bgcolor": "#E5ECF6",
           "caxis": {
            "gridcolor": "white",
            "linecolor": "white",
            "ticks": ""
           }
          },
          "title": {
           "x": 0.05
          },
          "xaxis": {
           "automargin": true,
           "gridcolor": "white",
           "linecolor": "white",
           "ticks": "",
           "title": {
            "standoff": 15
           },
           "zerolinecolor": "white",
           "zerolinewidth": 2
          },
          "yaxis": {
           "automargin": true,
           "gridcolor": "white",
           "linecolor": "white",
           "ticks": "",
           "title": {
            "standoff": 15
           },
           "zerolinecolor": "white",
           "zerolinewidth": 2
          }
         }
        }
       }
      }
     },
     "metadata": {},
     "output_type": "display_data"
    }
   ],
   "source": [
    "px.treemap(df3, path=['RFM'], values='count')"
   ]
  },
  {
   "cell_type": "code",
   "execution_count": null,
   "metadata": {},
   "outputs": [],
   "source": []
  },
  {
   "cell_type": "code",
   "execution_count": null,
   "metadata": {},
   "outputs": [],
   "source": []
  },
  {
   "cell_type": "code",
   "execution_count": null,
   "metadata": {},
   "outputs": [],
   "source": []
  },
  {
   "cell_type": "code",
   "execution_count": null,
   "metadata": {},
   "outputs": [],
   "source": []
  },
  {
   "cell_type": "code",
   "execution_count": null,
   "metadata": {},
   "outputs": [],
   "source": []
  }
 ],
 "metadata": {
  "kernelspec": {
   "display_name": "Python 3",
   "language": "python",
   "name": "python3"
  },
  "language_info": {
   "codemirror_mode": {
    "name": "ipython",
    "version": 3
   },
   "file_extension": ".py",
   "mimetype": "text/x-python",
   "name": "python",
   "nbconvert_exporter": "python",
   "pygments_lexer": "ipython3",
   "version": "3.11.7"
  }
 },
 "nbformat": 4,
 "nbformat_minor": 2
}
